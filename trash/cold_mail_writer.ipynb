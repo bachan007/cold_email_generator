{
 "cells": [
  {
   "cell_type": "code",
   "execution_count": 6,
   "metadata": {},
   "outputs": [],
   "source": [
    "from langchain_community.llms import Ollama\n",
    "from langchain_core.prompts import ChatPromptTemplate\n",
    "from langchain_core.output_parsers import StrOutputParser"
   ]
  },
  {
   "cell_type": "code",
   "execution_count": 7,
   "metadata": {},
   "outputs": [],
   "source": [
    "model = Ollama(model='llama3.1')"
   ]
  },
  {
   "cell_type": "code",
   "execution_count": 8,
   "metadata": {},
   "outputs": [],
   "source": [
    "prompt = ChatPromptTemplate.from_messages([\n",
    "    ('system','''You are an expert in writing professional cold emails for job applications. \n",
    "    Your task is to craft a compelling and personalized email based on the provided details.'''),\n",
    "    ('user','question:{question}')\n",
    "])"
   ]
  },
  {
   "cell_type": "code",
   "execution_count": 9,
   "metadata": {},
   "outputs": [],
   "source": [
    "chain = prompt|model|StrOutputParser()"
   ]
  },
  {
   "cell_type": "code",
   "execution_count": 10,
   "metadata": {},
   "outputs": [],
   "source": [
    "candidate_info = \"\"\"\n",
    "Name:** Bachan Nigam\\n\\n**Profession:** Data Engineer\\n\\n**Education:**\\n\\n* Bachelor of Technology (2013-2017) in Computer Science and Engineering from Dr. A.P.J. Abdul Kalam Technical University of India\\n* Master's Program in Data Science (2021) from Simplilearn, a part of Dr. APJ Abdul Kalam Technical University of India\\n\\n**Work Experience:**\\n\\n* Azure Data Engineer at Tranzit Systems (May 2022 - Present)\\n* Data Engineer at Procter & Gamble (PG)\\n\\n**Skills:**\\n\\n* Programming languages: Python\\n* Cloud platforms: Azure Functions, Azure Databricks, Azure Data Factory, Azure Active Directory, ADLS, Azure SQL, Azure Synapse, Logic Apps, and Cosmos DB.\\n* Problem-solving, critical thinking, leadership, and logical reasoning.\\n\\nThis brief overview provides a general idea of Bachan Nigam's professional background, education, skills, and work experience.\"\"\""
   ]
  },
  {
   "cell_type": "code",
   "execution_count": 17,
   "metadata": {},
   "outputs": [],
   "source": [
    "candidate_info = \"\"\"\n",
    "**Candidate’s Name**: Mohd Hashim\\n**Years of Experience**: 4+ years (Note: The exact number is not mentioned, but based on the provided information, it can be estimated that he has around 4-5 years of experience)\\n**Industry**: Data Engineering/Technology\\n**Key Skills**: Python, PySpark, Pandas, NumPy, SQL, Power BI, Azure Data Factory, Azure Databricks, Azure Functions, Git, PowerShell, Azure Logic App, Azure blob storage, Azure data lake, Rest API's, Postman, VS Code, Pycharm, Knime, Excel\\n**Achievements**: \\n- Developed an interactive Power BI dashboard to track raw material consumption, production trends, critical inventory, purchase tracking, non-performing inventory, and machinery downtime, resulting in improved operational efficiency, 20% reduction in machinery downtime, and $40,000 annual cost saving.\\n- Achieved a 90% inventory forecast accuracy by utilizing Databricks platform to create robust ETL pipelines with Python, PySpark, and SQL.\\n**Previous Roles**: \\n- Data Engineer at Tranzita Systems (02/2021 - Present)\\n- On Shelf Availability (RCA)/ P&G Mumbai (09/2021 - 04/2022)\n",
    "\"\"\""
   ]
  },
  {
   "cell_type": "code",
   "execution_count": 18,
   "metadata": {},
   "outputs": [],
   "source": [
    "company_info = \"\"\"\n",
    "Tranzita Systems:\\n\\nTranzita Systems is a company that provides various services and solutions related to data management, analytics, and technology. They specialize in areas such as:\\n\\n* Data Engineering: Transforming data across cloud platforms\\n* Data Science: Utilizing data for defects detection and predictive maintenance\\n* BI Dashboard: Visualizing data and gaining key insights\\n* PLC Programming: Automating tasks through robotics\\n\\nTheir expertise extends to IoT, Machine Learning, and Big Data. The company also emphasizes the importance of Cyber Security Audit to secure applications and servers.\\n\\nThe tone of the website suggests a forward-thinking approach, with phrases like \"Join us in building the best-in-class products\" and \"Transform your data into information.\" Overall, Tranzita Systems appears to be a technology-driven organization focused on helping businesses solve complex problems through innovative solutions.\n",
    "\"\"\""
   ]
  },
  {
   "cell_type": "code",
   "execution_count": 19,
   "metadata": {},
   "outputs": [],
   "source": [
    "response = chain.invoke({'question':f\"\"\"\n",
    "Please write a cold email for a job application based on the following information:\n",
    "**Candidate’s Resume Highlights:**\n",
    "{candidate_info}\n",
    "**Company Description:**\n",
    "{company_info}\n",
    "**Email Objective:**\n",
    "- The goal of this email is to introduce candidate_name with his designation, highlight their qualifications, their most recent profile overview and express interest in potential job opportunities which match with their recent projects and tech stack at company_name.\n",
    "**Desired Outcome:**\n",
    "- Request a meeting or call to discuss potential opportunities.\n",
    "Make sure the email is professional, concise, and tailored to the company's needs and values.\n",
    "\"\"\"})"
   ]
  },
  {
   "cell_type": "code",
   "execution_count": 20,
   "metadata": {},
   "outputs": [
    {
     "name": "stdout",
     "output_type": "stream",
     "text": [
      "Here is a sample cold email:\n",
      "\n",
      "Subject: Introduction - Data Engineer with experience in Power BI & Azure Data Solutions\n",
      "\n",
      "Dear [Hiring Manager's Name],\n",
      "\n",
      "I came across Tranzita Systems' innovative solutions in data management, analytics, and technology, and was impressed by your company's forward-thinking approach to helping businesses solve complex problems. As a seasoned Data Engineer with expertise in transforming data across cloud platforms, I am excited to introduce myself.\n",
      "\n",
      "With over 4+ years of experience in designing and implementing robust ETL pipelines using Python, PySpark, SQL, and Azure Databricks, I believe my skills align perfectly with Tranzita Systems' specialization in areas like data engineering, data science, and BI dashboarding. My achievements include developing an interactive Power BI dashboard that improved operational efficiency by 20% and saved $40,000 annually.\n",
      "\n",
      "In my current role at [Current Company], I've had the opportunity to work on projects involving Azure Data Factory, Databricks, and Power BI. I'm confident that my experience in utilizing these technologies would be a valuable asset to your team. My skills also include proficiency in languages like Python, PySpark, SQL, as well as expertise in tools such as Power BI, Azure Functions, Git, PowerShell, and VS Code.\n",
      "\n",
      "I am particularly drawn to Tranzita Systems' emphasis on Cyber Security Audit and its commitment to delivering innovative solutions through technology-driven approaches. As someone who is passionate about leveraging data insights to drive business growth, I believe our values align perfectly.\n",
      "\n",
      "Would you be open to a meeting or call to discuss potential opportunities where my expertise can contribute to your team's success? I'd love the chance to learn more about Tranzita Systems' projects and explore ways in which we might collaborate.\n",
      "\n",
      "Thank you for considering my introduction. I look forward to hearing from you soon!\n",
      "\n",
      "Best regards,\n",
      "\n",
      "Mohd Hashim\n",
      "Data Engineer\n"
     ]
    }
   ],
   "source": [
    "print(response)"
   ]
  },
  {
   "cell_type": "code",
   "execution_count": null,
   "metadata": {},
   "outputs": [],
   "source": []
  }
 ],
 "metadata": {
  "kernelspec": {
   "display_name": ".venv",
   "language": "python",
   "name": "python3"
  },
  "language_info": {
   "codemirror_mode": {
    "name": "ipython",
    "version": 3
   },
   "file_extension": ".py",
   "mimetype": "text/x-python",
   "name": "python",
   "nbconvert_exporter": "python",
   "pygments_lexer": "ipython3",
   "version": "3.10.6 (main, Mar 10 2023, 10:55:28) [GCC 11.3.0]"
  },
  "orig_nbformat": 4,
  "vscode": {
   "interpreter": {
    "hash": "862b5242c3ab634cc1b33fc3359be40c35c4be42790518daf08685199dc20428"
   }
  }
 },
 "nbformat": 4,
 "nbformat_minor": 2
}
