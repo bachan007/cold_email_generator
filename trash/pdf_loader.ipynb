{
 "cells": [
  {
   "cell_type": "code",
   "execution_count": 15,
   "metadata": {},
   "outputs": [],
   "source": [
    "from langchain_community.llms import Ollama\n",
    "from langchain_community.document_loaders import PyPDFLoader\n",
    "from langchain.text_splitter import RecursiveCharacterTextSplitter\n",
    "from langchain.embeddings import OllamaEmbeddings\n",
    "from langchain_community.vectorstores import FAISS\n",
    "from langchain.prompts import ChatPromptTemplate\n",
    "from langchain.chains.combine_documents import create_stuff_documents_chain\n",
    "from langchain.chains import create_retrieval_chain"
   ]
  },
  {
   "cell_type": "code",
   "execution_count": 16,
   "metadata": {},
   "outputs": [],
   "source": [
    "model = Ollama(model='llama3.1')"
   ]
  },
  {
   "cell_type": "code",
   "execution_count": 17,
   "metadata": {},
   "outputs": [],
   "source": [
    "# loader = PyPDFLoader('resume')\n",
    "loader = PyPDFLoader('hashim')\n",
    "document = loader.load()\n",
    "text_splitter = RecursiveCharacterTextSplitter(chunk_size = 1000, chunk_overlap=200)\n",
    "final_doc = text_splitter.split_documents(document)"
   ]
  },
  {
   "cell_type": "code",
   "execution_count": 18,
   "metadata": {},
   "outputs": [],
   "source": [
    "ollama_embeddings = OllamaEmbeddings(\n",
    "    model='llama3.1',\n",
    "    model_kwargs={'device':'gpu'}\n",
    ")"
   ]
  },
  {
   "cell_type": "code",
   "execution_count": 19,
   "metadata": {},
   "outputs": [],
   "source": [
    "vectors = FAISS.from_documents(final_doc,ollama_embeddings)"
   ]
  },
  {
   "cell_type": "code",
   "execution_count": 20,
   "metadata": {},
   "outputs": [],
   "source": [
    "retriever  = vectors.as_retriever()"
   ]
  },
  {
   "cell_type": "code",
   "execution_count": 21,
   "metadata": {},
   "outputs": [],
   "source": [
    "prompt = ChatPromptTemplate.from_template(\n",
    "\"\"\"\n",
    "Provide me the accurate answers regarding the context.\n",
    "<context>\n",
    "{context}\n",
    "<context>\n",
    "Question:{input}\n",
    "\"\"\"\n",
    ")\n"
   ]
  },
  {
   "cell_type": "code",
   "execution_count": 22,
   "metadata": {},
   "outputs": [],
   "source": [
    "document_chain = create_stuff_documents_chain(model,prompt)"
   ]
  },
  {
   "cell_type": "code",
   "execution_count": 23,
   "metadata": {},
   "outputs": [],
   "source": [
    "retrieval_chain = create_retrieval_chain(retriever,document_chain)"
   ]
  },
  {
   "cell_type": "code",
   "execution_count": 24,
   "metadata": {},
   "outputs": [],
   "source": [
    "question = \"\"\"Please extract the following details from the provided resume:\n",
    "\n",
    "1. **Candidate’s Name**: The full name of the candidate.\n",
    "2. **Years of Experience**: Total years of relevant work experience.\n",
    "3. **Industry**: The industry or field in which the candidate has worked.\n",
    "4. **Key Skills**: A list of primary skills mentioned in the resume.\n",
    "5. **Achievements**: Notable accomplishments or achievements listed in the resume.\n",
    "\n",
    "Provide the extracted information in the following format:\n",
    "\n",
    "**Candidate’s Name**: [Name]\n",
    "**Years of Experience**: [Years]\n",
    "**Industry**: [Industry]\n",
    "**Key Skills**: [Skill 1], [Skill 2], [Skill 3]\n",
    "**Achievements**: [Achievement 1], [Achievement 2]\n",
    "**Previous Roles**: [Role 1] at [Current Company]\n",
    "\n",
    "Make sure to carefully review the resume and provide accurate and complete details.\n",
    "    \"\"\""
   ]
  },
  {
   "cell_type": "code",
   "execution_count": 25,
   "metadata": {},
   "outputs": [],
   "source": [
    "response = retrieval_chain.invoke({'input':question})"
   ]
  },
  {
   "cell_type": "code",
   "execution_count": 26,
   "metadata": {},
   "outputs": [
    {
     "data": {
      "text/plain": [
       "\"**Candidate’s Name**: Mohd Hashim\\n**Years of Experience**: 4+ years (Note: The exact number is not mentioned, but based on the provided information, it can be estimated that he has around 4-5 years of experience)\\n**Industry**: Data Engineering/Technology\\n**Key Skills**: Python, PySpark, Pandas, NumPy, SQL, Power BI, Azure Data Factory, Azure Databricks, Azure Functions, Git, PowerShell, Azure Logic App, Azure blob storage, Azure data lake, Rest API's, Postman, VS Code, Pycharm, Knime, Excel\\n**Achievements**: \\n- Developed an interactive Power BI dashboard to track raw material consumption, production trends, critical inventory, purchase tracking, non-performing inventory, and machinery downtime, resulting in improved operational efficiency, 20% reduction in machinery downtime, and $40,000 annual cost saving.\\n- Achieved a 90% inventory forecast accuracy by utilizing Databricks platform to create robust ETL pipelines with Python, PySpark, and SQL.\\n**Previous Roles**: \\n- Data Engineer at Tranzita Systems (02/2021 - Present)\\n- On Shelf Availability (RCA)/ P&G Mumbai (09/2021 - 04/2022)\""
      ]
     },
     "execution_count": 26,
     "metadata": {},
     "output_type": "execute_result"
    }
   ],
   "source": [
    "response['answer']"
   ]
  },
  {
   "cell_type": "code",
   "execution_count": null,
   "metadata": {},
   "outputs": [],
   "source": []
  }
 ],
 "metadata": {
  "kernelspec": {
   "display_name": ".venv",
   "language": "python",
   "name": "python3"
  },
  "language_info": {
   "codemirror_mode": {
    "name": "ipython",
    "version": 3
   },
   "file_extension": ".py",
   "mimetype": "text/x-python",
   "name": "python",
   "nbconvert_exporter": "python",
   "pygments_lexer": "ipython3",
   "version": "3.10.6 (main, Mar 10 2023, 10:55:28) [GCC 11.3.0]"
  },
  "orig_nbformat": 4,
  "vscode": {
   "interpreter": {
    "hash": "862b5242c3ab634cc1b33fc3359be40c35c4be42790518daf08685199dc20428"
   }
  }
 },
 "nbformat": 4,
 "nbformat_minor": 2
}
